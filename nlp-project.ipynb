{
 "cells": [
  {
   "cell_type": "markdown",
   "metadata": {
    "papermill": {
     "duration": 0.009992,
     "end_time": "2021-03-05T20:57:20.869435",
     "exception": false,
     "start_time": "2021-03-05T20:57:20.859443",
     "status": "completed"
    },
    "tags": []
   },
   "source": [
    " Natural Language Processing"
   ]
  },
  {
   "cell_type": "markdown",
   "metadata": {
    "papermill": {
     "duration": 0.008599,
     "end_time": "2021-03-05T20:57:20.887216",
     "exception": false,
     "start_time": "2021-03-05T20:57:20.878617",
     "status": "completed"
    },
    "tags": []
   },
   "source": [
    "Importing the libraries"
   ]
  },
  {
   "cell_type": "code",
   "execution_count": 1,
   "metadata": {
    "_cell_guid": "b1076dfc-b9ad-4769-8c92-a6c4dae69d19",
    "_uuid": "8f2839f25d086af736a60e9eeb907d3b93b6e0e5",
    "execution": {
     "iopub.execute_input": "2021-03-05T20:57:20.911192Z",
     "iopub.status.busy": "2021-03-05T20:57:20.910580Z",
     "iopub.status.idle": "2021-03-05T20:57:20.913716Z",
     "shell.execute_reply": "2021-03-05T20:57:20.913083Z"
    },
    "papermill": {
     "duration": 0.017592,
     "end_time": "2021-03-05T20:57:20.913897",
     "exception": false,
     "start_time": "2021-03-05T20:57:20.896305",
     "status": "completed"
    },
    "tags": []
   },
   "outputs": [],
   "source": [
    "import numpy as np\n",
    "import matplotlib.pyplot as plt\n",
    "import pandas as pd"
   ]
  },
  {
   "cell_type": "markdown",
   "metadata": {
    "papermill": {
     "duration": 0.008895,
     "end_time": "2021-03-05T20:57:20.932145",
     "exception": false,
     "start_time": "2021-03-05T20:57:20.923250",
     "status": "completed"
    },
    "tags": []
   },
   "source": [
    "Importing the dataset"
   ]
  },
  {
   "cell_type": "code",
   "execution_count": 2,
   "metadata": {
    "execution": {
     "iopub.execute_input": "2021-03-05T20:57:20.955572Z",
     "iopub.status.busy": "2021-03-05T20:57:20.954960Z",
     "iopub.status.idle": "2021-03-05T20:57:20.972306Z",
     "shell.execute_reply": "2021-03-05T20:57:20.971594Z"
    },
    "papermill": {
     "duration": 0.031071,
     "end_time": "2021-03-05T20:57:20.972444",
     "exception": false,
     "start_time": "2021-03-05T20:57:20.941373",
     "status": "completed"
    },
    "tags": []
   },
   "outputs": [],
   "source": [
    "dataset = pd.read_csv('../input/restaurant-reviews/Restaurant_Reviews.tsv',delimiter = '\\t', quoting = 3)"
   ]
  },
  {
   "cell_type": "markdown",
   "metadata": {
    "papermill": {
     "duration": 0.009027,
     "end_time": "2021-03-05T20:57:20.990817",
     "exception": false,
     "start_time": "2021-03-05T20:57:20.981790",
     "status": "completed"
    },
    "tags": []
   },
   "source": [
    "Cleaning the texts"
   ]
  },
  {
   "cell_type": "code",
   "execution_count": 3,
   "metadata": {
    "execution": {
     "iopub.execute_input": "2021-03-05T20:57:21.016799Z",
     "iopub.status.busy": "2021-03-05T20:57:21.016199Z",
     "iopub.status.idle": "2021-03-05T20:57:24.419584Z",
     "shell.execute_reply": "2021-03-05T20:57:24.418940Z"
    },
    "papermill": {
     "duration": 3.419537,
     "end_time": "2021-03-05T20:57:24.419727",
     "exception": false,
     "start_time": "2021-03-05T20:57:21.000190",
     "status": "completed"
    },
    "tags": []
   },
   "outputs": [
    {
     "name": "stdout",
     "output_type": "stream",
     "text": [
      "[nltk_data] Downloading package stopwords to /usr/share/nltk_data...\n",
      "[nltk_data]   Package stopwords is already up-to-date!\n"
     ]
    }
   ],
   "source": [
    "import re\n",
    "import nltk\n",
    "nltk.download('stopwords')\n",
    "from nltk.corpus import stopwords\n",
    "from nltk.stem.porter import PorterStemmer\n",
    "corpus = []\n",
    "for i in range(0, 1000):\n",
    "    review = re.sub('[^a-zA-Z]', ' ', dataset['Review'][i])\n",
    "    review = review.lower()\n",
    "    review = review.split()\n",
    "    ps = PorterStemmer()\n",
    "    review = [ps.stem(word) for word in review if not word in set(stopwords.words('english'))]\n",
    "    review = ' '.join(review)\n",
    "    corpus.append(review)"
   ]
  },
  {
   "cell_type": "markdown",
   "metadata": {
    "papermill": {
     "duration": 0.009708,
     "end_time": "2021-03-05T20:57:24.440173",
     "exception": false,
     "start_time": "2021-03-05T20:57:24.430465",
     "status": "completed"
    },
    "tags": []
   },
   "source": [
    "Creating the Bag of Words model"
   ]
  },
  {
   "cell_type": "code",
   "execution_count": 4,
   "metadata": {
    "execution": {
     "iopub.execute_input": "2021-03-05T20:57:24.478593Z",
     "iopub.status.busy": "2021-03-05T20:57:24.473552Z",
     "iopub.status.idle": "2021-03-05T20:57:24.500611Z",
     "shell.execute_reply": "2021-03-05T20:57:24.500061Z"
    },
    "papermill": {
     "duration": 0.050711,
     "end_time": "2021-03-05T20:57:24.500744",
     "exception": false,
     "start_time": "2021-03-05T20:57:24.450033",
     "status": "completed"
    },
    "tags": []
   },
   "outputs": [],
   "source": [
    "from sklearn.feature_extraction.text import CountVectorizer\n",
    "cv = CountVectorizer(max_features = 1500)\n",
    "X = cv.fit_transform(corpus).toarray()\n",
    "y = dataset.iloc[:, 1].values"
   ]
  },
  {
   "cell_type": "markdown",
   "metadata": {
    "papermill": {
     "duration": 0.009804,
     "end_time": "2021-03-05T20:57:24.521075",
     "exception": false,
     "start_time": "2021-03-05T20:57:24.511271",
     "status": "completed"
    },
    "tags": []
   },
   "source": [
    "Splitting the dataset into the Training set and Test set"
   ]
  },
  {
   "cell_type": "code",
   "execution_count": 5,
   "metadata": {
    "execution": {
     "iopub.execute_input": "2021-03-05T20:57:24.547071Z",
     "iopub.status.busy": "2021-03-05T20:57:24.546489Z",
     "iopub.status.idle": "2021-03-05T20:57:24.557490Z",
     "shell.execute_reply": "2021-03-05T20:57:24.556920Z"
    },
    "papermill": {
     "duration": 0.026437,
     "end_time": "2021-03-05T20:57:24.557625",
     "exception": false,
     "start_time": "2021-03-05T20:57:24.531188",
     "status": "completed"
    },
    "tags": []
   },
   "outputs": [],
   "source": [
    "from sklearn.model_selection import train_test_split\n",
    "X_train, X_test, y_train, y_test = train_test_split(X, y, test_size = 0.20, random_state = 0)"
   ]
  },
  {
   "cell_type": "markdown",
   "metadata": {
    "papermill": {
     "duration": 0.009892,
     "end_time": "2021-03-05T20:57:24.577654",
     "exception": false,
     "start_time": "2021-03-05T20:57:24.567762",
     "status": "completed"
    },
    "tags": []
   },
   "source": [
    "Training the Naive Bayes model on the Training set"
   ]
  },
  {
   "cell_type": "code",
   "execution_count": 6,
   "metadata": {
    "execution": {
     "iopub.execute_input": "2021-03-05T20:57:24.602790Z",
     "iopub.status.busy": "2021-03-05T20:57:24.602186Z",
     "iopub.status.idle": "2021-03-05T20:57:24.635020Z",
     "shell.execute_reply": "2021-03-05T20:57:24.634466Z"
    },
    "papermill": {
     "duration": 0.047324,
     "end_time": "2021-03-05T20:57:24.635167",
     "exception": false,
     "start_time": "2021-03-05T20:57:24.587843",
     "status": "completed"
    },
    "tags": []
   },
   "outputs": [
    {
     "data": {
      "text/plain": [
       "GaussianNB()"
      ]
     },
     "execution_count": 6,
     "metadata": {},
     "output_type": "execute_result"
    }
   ],
   "source": [
    "from sklearn.naive_bayes import GaussianNB\n",
    "classifier = GaussianNB()\n",
    "classifier.fit(X_train, y_train)"
   ]
  },
  {
   "cell_type": "markdown",
   "metadata": {
    "papermill": {
     "duration": 0.010309,
     "end_time": "2021-03-05T20:57:24.657212",
     "exception": false,
     "start_time": "2021-03-05T20:57:24.646903",
     "status": "completed"
    },
    "tags": []
   },
   "source": [
    "Predicting the Test set results"
   ]
  },
  {
   "cell_type": "code",
   "execution_count": 7,
   "metadata": {
    "execution": {
     "iopub.execute_input": "2021-03-05T20:57:24.683095Z",
     "iopub.status.busy": "2021-03-05T20:57:24.682484Z",
     "iopub.status.idle": "2021-03-05T20:57:24.691748Z",
     "shell.execute_reply": "2021-03-05T20:57:24.691224Z"
    },
    "papermill": {
     "duration": 0.023915,
     "end_time": "2021-03-05T20:57:24.691883",
     "exception": false,
     "start_time": "2021-03-05T20:57:24.667968",
     "status": "completed"
    },
    "tags": []
   },
   "outputs": [],
   "source": [
    "y_pred = classifier.predict(X_test)"
   ]
  },
  {
   "cell_type": "markdown",
   "metadata": {
    "papermill": {
     "duration": 0.010392,
     "end_time": "2021-03-05T20:57:24.713326",
     "exception": false,
     "start_time": "2021-03-05T20:57:24.702934",
     "status": "completed"
    },
    "tags": []
   },
   "source": [
    "Making the Confusion Matrix"
   ]
  },
  {
   "cell_type": "code",
   "execution_count": 8,
   "metadata": {
    "execution": {
     "iopub.execute_input": "2021-03-05T20:57:24.739513Z",
     "iopub.status.busy": "2021-03-05T20:57:24.738850Z",
     "iopub.status.idle": "2021-03-05T20:57:24.745546Z",
     "shell.execute_reply": "2021-03-05T20:57:24.745983Z"
    },
    "papermill": {
     "duration": 0.02212,
     "end_time": "2021-03-05T20:57:24.746161",
     "exception": false,
     "start_time": "2021-03-05T20:57:24.724041",
     "status": "completed"
    },
    "tags": []
   },
   "outputs": [
    {
     "name": "stdout",
     "output_type": "stream",
     "text": [
      "[[55 42]\n",
      " [12 91]]\n"
     ]
    }
   ],
   "source": [
    "from sklearn.metrics import confusion_matrix\n",
    "cm = confusion_matrix(y_test, y_pred)\n",
    "print(cm)"
   ]
  }
 ],
 "metadata": {
  "kernelspec": {
   "display_name": "Python 3",
   "language": "python",
   "name": "python3"
  },
  "language_info": {
   "codemirror_mode": {
    "name": "ipython",
    "version": 3
   },
   "file_extension": ".py",
   "mimetype": "text/x-python",
   "name": "python",
   "nbconvert_exporter": "python",
   "pygments_lexer": "ipython3",
   "version": "3.7.9"
  },
  "papermill": {
   "default_parameters": {},
   "duration": 9.991265,
   "end_time": "2021-03-05T20:57:25.370343",
   "environment_variables": {},
   "exception": null,
   "input_path": "__notebook__.ipynb",
   "output_path": "__notebook__.ipynb",
   "parameters": {},
   "start_time": "2021-03-05T20:57:15.379078",
   "version": "2.2.2"
  }
 },
 "nbformat": 4,
 "nbformat_minor": 4
}
